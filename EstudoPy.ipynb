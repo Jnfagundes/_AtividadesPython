{
  "nbformat": 4,
  "nbformat_minor": 0,
  "metadata": {
    "colab": {
      "name": "EstudoPy",
      "provenance": [],
      "collapsed_sections": [],
      "authorship_tag": "ABX9TyNnuEnWCfXBP5xppginEPfd",
      "include_colab_link": true
    },
    "kernelspec": {
      "name": "python3",
      "display_name": "Python 3"
    }
  },
  "cells": [
    {
      "cell_type": "markdown",
      "metadata": {
        "id": "view-in-github",
        "colab_type": "text"
      },
      "source": [
        "<a href=\"https://colab.research.google.com/github/Jnfagundes/_AtividadesPython/blob/master/EstudoPy.ipynb\" target=\"_parent\"><img src=\"https://colab.research.google.com/assets/colab-badge.svg\" alt=\"Open In Colab\"/></a>"
      ]
    },
    {
      "cell_type": "code",
      "metadata": {
        "colab": {
          "base_uri": "https://localhost:8080/"
        },
        "id": "6EKElg5uMSpH",
        "outputId": "e57fa601-e13f-4f33-86aa-0b33f875d169"
      },
      "source": [
        "real = float(input('Qual valor você quer converter? R$'))\n",
        "dolar = real / 5.30\n",
        "print('Com R${:.2f} você compra US${:.2f}'.format(real, dolar)) "
      ],
      "execution_count": null,
      "outputs": [
        {
          "output_type": "stream",
          "text": [
            "Qual valor você quer converter? R$100\n",
            "Com R$100.00 você compra US$18.87\n"
          ],
          "name": "stdout"
        }
      ]
    },
    {
      "cell_type": "code",
      "metadata": {
        "colab": {
          "base_uri": "https://localhost:8080/"
        },
        "id": "6QHQ7jg3OpdK",
        "outputId": "cd70a027-7a22-493c-d2a3-4e90261fd063"
      },
      "source": [
        "largura = float(input('Largura da parede: '))\n",
        "altura = float(input('Altura da parede: '))\n",
        "area = largura * altura\n",
        "print('Sua parede tem a dimensão de {}X{} e sua área é de {}m².'.format(largura, altura, area))\n",
        "tinta = area / 2\n",
        "print('Para pintar essa parede, você precisará de {}l de tinta.'.format(tinta))\n"
      ],
      "execution_count": null,
      "outputs": [
        {
          "output_type": "stream",
          "text": [
            "Largura da parede: 3\n",
            "Altura da parede: 2\n",
            "Sua parede tem a dimensão de 3.0X2.0 e sua área é de 6.0m².\n",
            "Para pintar essa parede, você precisará de 3.0l de tinta.\n"
          ],
          "name": "stdout"
        }
      ]
    },
    {
      "cell_type": "code",
      "metadata": {
        "colab": {
          "base_uri": "https://localhost:8080/"
        },
        "id": "MdSZoVNMQvpz",
        "outputId": "18fe5a61-8f73-472d-cb90-55c0ed1ca7c0"
      },
      "source": [
        "preco = float(input('Qual o preço do produto? R$'))\n",
        "novo = preco - (preco * 5/100)\n",
        "print('O seu produto teve 5% de desconto, seu novo valor é R${:.2f} '.format(novo))\n"
      ],
      "execution_count": null,
      "outputs": [
        {
          "output_type": "stream",
          "text": [
            "Qual o preço do produto? R$1000\n",
            "O seu produto teve 5% de desconto, seu novo valor é R$950.00 \n"
          ],
          "name": "stdout"
        }
      ]
    },
    {
      "cell_type": "code",
      "metadata": {
        "id": "s8ITbYetOm4e",
        "colab": {
          "base_uri": "https://localhost:8080/"
        },
        "outputId": "04099280-e7b1-40d8-da90-c22ffb984ce1"
      },
      "source": [
        "soma = 0\n",
        "for i in range (0,11):\n",
        "  soma += i\n",
        "print(soma)  \n"
      ],
      "execution_count": null,
      "outputs": [
        {
          "output_type": "stream",
          "text": [
            "55\n"
          ],
          "name": "stdout"
        }
      ]
    },
    {
      "cell_type": "code",
      "metadata": {
        "colab": {
          "base_uri": "https://localhost:8080/"
        },
        "id": "x1SRJniYxl2i",
        "outputId": "3daf2532-3df4-4a84-e9f4-d09cea3ecb61"
      },
      "source": [
        "i = 1000\n",
        "while i != 7:\n",
        "  i -= 1\n",
        "print(i)  "
      ],
      "execution_count": null,
      "outputs": [
        {
          "output_type": "stream",
          "text": [
            "7\n"
          ],
          "name": "stdout"
        }
      ]
    },
    {
      "cell_type": "code",
      "metadata": {
        "colab": {
          "base_uri": "https://localhost:8080/"
        },
        "id": "GUwKir4lx_A6",
        "outputId": "b2259d4b-2053-431f-cdfe-d6035e740a7e"
      },
      "source": [
        "def retornoSoma(n1, n2):\n",
        "  soma = n1 + n2\n",
        "  return soma\n",
        "result = retornoSoma(retornoSoma(10, 20), retornoSoma(30,40))\n",
        "print(result)  \n"
      ],
      "execution_count": null,
      "outputs": [
        {
          "output_type": "stream",
          "text": [
            "100\n"
          ],
          "name": "stdout"
        }
      ]
    },
    {
      "cell_type": "code",
      "metadata": {
        "colab": {
          "base_uri": "https://localhost:8080/"
        },
        "id": "B4Q_3Eroy0QX",
        "outputId": "9f57a3de-e907-4473-cfa8-5ee6bf938091"
      },
      "source": [
        "vet = list(range(0, 3))\n",
        "for i in vet:\n",
        "  vet[i] = i * i\n",
        "  print(vet[i])\n"
      ],
      "execution_count": null,
      "outputs": [
        {
          "output_type": "stream",
          "text": [
            "0\n",
            "1\n",
            "4\n"
          ],
          "name": "stdout"
        }
      ]
    },
    {
      "cell_type": "code",
      "metadata": {
        "colab": {
          "base_uri": "https://localhost:8080/"
        },
        "id": "byQiZnbfa14W",
        "outputId": "03e74790-a462-42c5-f5c2-b8fa9bc73ddf"
      },
      "source": [
        "salario = float(input('Qual o salário do funcionário? R$'))\n",
        "novo = salario + (salario * 15/100)\n",
        "print('O salário R${:.2f}, receberá o aumento de 15%, passando a ser R${:.2f} '.format(salario, novo))"
      ],
      "execution_count": null,
      "outputs": [
        {
          "output_type": "stream",
          "text": [
            "Qual o salário do funcionário? R$1045\n",
            "O salário R$1045.00, receberá o aumento de 15%, passando a ser R$1201.75 \n"
          ],
          "name": "stdout"
        }
      ]
    },
    {
      "cell_type": "code",
      "metadata": {
        "colab": {
          "base_uri": "https://localhost:8080/"
        },
        "id": "NCFwzLuXcedP",
        "outputId": "7d966e77-a63e-4e84-ba7a-dcc85b7b680b"
      },
      "source": [
        "c = float(input('Informe a temperatura em ºC: '))\n",
        "f = ((9 * c) / 5) + 32\n",
        "print('A temperatura de {}ºC corresponde a {}ºF!'.format(c, f))"
      ],
      "execution_count": null,
      "outputs": [
        {
          "output_type": "stream",
          "text": [
            "Informe a temperatura em ºC: 24\n",
            "A temperatura de 24.0ºC corresponde a 75.2ºF!\n"
          ],
          "name": "stdout"
        }
      ]
    },
    {
      "cell_type": "code",
      "metadata": {
        "colab": {
          "base_uri": "https://localhost:8080/"
        },
        "id": "IfzJyugAe55_",
        "outputId": "32b108ef-a59e-4c49-8a2b-bc8ef914c003"
      },
      "source": [
        "dias = int(input('Quantos dias alugados? '))\n",
        "km = float(input('Quantos Km percorridos? '))\n",
        "pago = (dias * 60) + (km * 0.15)\n",
        "print('O total a pagar é R${:.2f}'.format(pago))"
      ],
      "execution_count": null,
      "outputs": [
        {
          "output_type": "stream",
          "text": [
            "Quantos dias alugados? 3\n",
            "Quantos Km percorridos? 350\n",
            "O total a pagar é R$232.50\n"
          ],
          "name": "stdout"
        }
      ]
    },
    {
      "cell_type": "code",
      "metadata": {
        "colab": {
          "base_uri": "https://localhost:8080/"
        },
        "id": "49dkLD787xy-",
        "outputId": "570504f4-53bc-4bb2-a353-4d60f87cd890"
      },
      "source": [
        "print('Curso em Vídeo')\n",
        "import math\n",
        "num = int(input('Digite um número: '))\n",
        "raiz = math.sqrt(num)\n",
        "print('A raiz de {} é igual {}'.format(num, raiz))\n"
      ],
      "execution_count": null,
      "outputs": [
        {
          "output_type": "stream",
          "text": [
            "Curso em Vídeo\n",
            "Digite um número: 81\n",
            "A raiz de 81 é igual 9.0\n"
          ],
          "name": "stdout"
        }
      ]
    },
    {
      "cell_type": "code",
      "metadata": {
        "colab": {
          "base_uri": "https://localhost:8080/"
        },
        "id": "BE6VyKreMfyp",
        "outputId": "a10b4926-9347-427c-d1d5-288f0cd387f2"
      },
      "source": [
        "import random\n",
        "num = random.randint(1,10)\n",
        "print(num)"
      ],
      "execution_count": null,
      "outputs": [
        {
          "output_type": "stream",
          "text": [
            "5\n"
          ],
          "name": "stdout"
        }
      ]
    },
    {
      "cell_type": "code",
      "metadata": {
        "colab": {
          "base_uri": "https://localhost:8080/"
        },
        "id": "f9DI7No9OTNd",
        "outputId": "dbed49cc-22f1-4750-e500-4b487627246c"
      },
      "source": [
        "import math\n",
        "num = float(input('Digite um número real:'))\n",
        "print('O valor digitado foi {} e as sua porção inteira é {}'.format(num, math.trunc(num)))\n"
      ],
      "execution_count": null,
      "outputs": [
        {
          "output_type": "stream",
          "text": [
            "Digite um número real:2.54\n",
            "O valor digitado foi 2.54 e as sua porção inteira é 2\n"
          ],
          "name": "stdout"
        }
      ]
    },
    {
      "cell_type": "code",
      "metadata": {
        "colab": {
          "base_uri": "https://localhost:8080/"
        },
        "id": "vu5Dcf8RQc2Z",
        "outputId": "decd3ece-2c7d-4627-b1f3-e2ad63e8f7f0"
      },
      "source": [
        "from math import trunc\n",
        "num = float(input('digite um valor real: '))\n",
        "print('O valor digitado foi {} e sua parte inteira é {}'.format(num, trunc(num)))\n"
      ],
      "execution_count": null,
      "outputs": [
        {
          "output_type": "stream",
          "text": [
            "digite um valor real: 5.25\n",
            "O valor digitado foi 5.25 e sua parte inteira é 5\n"
          ],
          "name": "stdout"
        }
      ]
    },
    {
      "cell_type": "code",
      "metadata": {
        "colab": {
          "base_uri": "https://localhost:8080/"
        },
        "id": "sZq04e3pRGNX",
        "outputId": "7653b626-3196-44de-aa8c-ef37e23e6f6a"
      },
      "source": [
        "catAdj = float(input('Digite o comprimento do cateto adjacente: '))\n",
        "catOp = float(input('Digite o cateto oposto: '))\n",
        "hi = (catOp ** 2 + catAdj ** 2) ** (1/2)\n",
        "print('A hipotenusa vai medir {:.2f}'.format(hi))\n"
      ],
      "execution_count": null,
      "outputs": [
        {
          "output_type": "stream",
          "text": [
            "Digite o comprimento do cateto adjacente: 2\n",
            "Digite o cateto oposto: 2.5\n",
            "A hipotenusa vai medir 3.20\n"
          ],
          "name": "stdout"
        }
      ]
    },
    {
      "cell_type": "code",
      "metadata": {
        "colab": {
          "base_uri": "https://localhost:8080/"
        },
        "id": "MBpy_lYbca-J",
        "outputId": "0e2e086c-4639-431d-cba1-16d6be3cba9e"
      },
      "source": [
        "import math \n",
        "catAdj = float(input('Digite o comprimento do cateto adjacente: '))\n",
        "catOp = float(input('Digite o cateto oposto: '))\n",
        "hi = math.hypot(catOp, catAdj)\n",
        "print('A hipotenusa vai medir {:.2f}'.format(hi))"
      ],
      "execution_count": null,
      "outputs": [
        {
          "output_type": "stream",
          "text": [
            "Digite o comprimento do cateto adjacente: 2\n",
            "Digite o cateto oposto: 2.5\n",
            "A hipotenusa vai medir 3.20\n"
          ],
          "name": "stdout"
        }
      ]
    },
    {
      "cell_type": "code",
      "metadata": {
        "colab": {
          "base_uri": "https://localhost:8080/"
        },
        "id": "lHkNGwn6dWsK",
        "outputId": "d9c1a2cd-5d24-4d4b-9c73-37ae796b61ba"
      },
      "source": [
        "from math import hypot\n",
        "catAdj = float(input('Digite o comprimento do cateto adjacente: '))\n",
        "catOp = float(input('Digite o cateto oposto: '))\n",
        "hi = hypot(catOp, catAdj)\n",
        "print('A hipotenusa vai medir {:.2f}'.format(hi))\n"
      ],
      "execution_count": null,
      "outputs": [
        {
          "output_type": "stream",
          "text": [
            "Digite o comprimento do cateto adjacente: 2\n",
            "Digite o cateto oposto: 2.5\n",
            "A hipotenusa vai medir 3.20\n"
          ],
          "name": "stdout"
        }
      ]
    },
    {
      "cell_type": "code",
      "metadata": {
        "colab": {
          "base_uri": "https://localhost:8080/"
        },
        "id": "lYChyGWqf5r3",
        "outputId": "f0c0b9e2-d847-4bb6-9f97-3ed820ac7c8f"
      },
      "source": [
        "import math\n",
        "angulo = float(input('Digite um ângulo qualquer: '))\n",
        "seno = math.sin(math.radians(angulo))\n",
        "print('O ângulo de {} tem o SENO de {:.2f}'.format(angulo, seno))\n",
        "cosseno = math.cos(math.radians(angulo))\n",
        "print('O cosseno é de {:.2f}'.format(cosseno))\n",
        "tangente = math.tan(math.radians(angulo))\n",
        "print('A tangente é {:.2f}'.format(tangente))\n",
        "\n",
        "\n"
      ],
      "execution_count": null,
      "outputs": [
        {
          "output_type": "stream",
          "text": [
            "Digite um ângulo qualquer: 30\n",
            "O ângulo de 30.0 tem o SENO de 0.50\n",
            "O cosseno é de 0.87\n",
            "A tangente é 0.58\n"
          ],
          "name": "stdout"
        }
      ]
    },
    {
      "cell_type": "code",
      "metadata": {
        "colab": {
          "base_uri": "https://localhost:8080/"
        },
        "id": "u1d6oeukjakj",
        "outputId": "ffcdfb8f-29ad-43c1-bdff-005989ded837"
      },
      "source": [
        "from math import radians, sin, cos, tan # importação somente daquilo que precisamos \n",
        "angulo = float(input('Digite um ângulo qualquer: '))\n",
        "seno = sin(radians(angulo))\n",
        "print('O ângulo de {} tem o SENO de {:.2f}'.format(angulo, seno))\n",
        "cosseno = cos(radians(angulo))\n",
        "print('O cosseno é de {:.2f}'.format(cosseno))\n",
        "tangente = tan(radians(angulo))\n",
        "print('A tangente é {:.2f}'.format(tangente))\n"
      ],
      "execution_count": null,
      "outputs": [
        {
          "output_type": "stream",
          "text": [
            "Digite um ângulo qualquer: 30\n",
            "O ângulo de 30.0 tem o SENO de 0.50\n",
            "O cosseno é de 0.87\n",
            "A tangente é 0.58\n"
          ],
          "name": "stdout"
        }
      ]
    },
    {
      "cell_type": "code",
      "metadata": {
        "colab": {
          "base_uri": "https://localhost:8080/"
        },
        "id": "H__-3CdjkkIX",
        "outputId": "c517f875-87ef-4c65-a8d6-cca01893a6dc"
      },
      "source": [
        "import random\n",
        "nome1 =input('Primeiro aluno: ')\n",
        "nome2 = input('Segundo aluno: ')\n",
        "nome3 = input('Terceiro aluno: ')\n",
        "nome4 = input('Quarto aluno: ')\n",
        "lista = [nome1, nome2, nome3, nome4]\n",
        "escolha = random.choice(lista)\n",
        "print('O aluno escolhido foi {}'.format(escolha))\n"
      ],
      "execution_count": null,
      "outputs": [
        {
          "output_type": "stream",
          "text": [
            "Primeiro aluno: Ana\n",
            "Segundo aluno: Thalita\n",
            "Terceiro aluno: José\n",
            "Quarto aluno: André\n",
            "O aluno escolhido foi José\n"
          ],
          "name": "stdout"
        }
      ]
    },
    {
      "cell_type": "code",
      "metadata": {
        "colab": {
          "base_uri": "https://localhost:8080/"
        },
        "id": "ZcwSGdCCmeFO",
        "outputId": "32ae5ae7-2ff7-4e02-85ad-f72d11d578b1"
      },
      "source": [
        "from random import choice\n",
        "nome1 =input('Primeiro aluno: ')\n",
        "nome2 = input('Segundo aluno: ')\n",
        "nome3 = input('Terceiro aluno: ')\n",
        "nome4 = input('Quarto aluno: ')\n",
        "lista = [nome1, nome2, nome3, nome4]\n",
        "escolha = choice(lista)\n",
        "print('O aluno escolhido foi {}'.format(escolha))"
      ],
      "execution_count": null,
      "outputs": [
        {
          "output_type": "stream",
          "text": [
            "Primeiro aluno: Ana\n",
            "Segundo aluno: Thalita\n",
            "Terceiro aluno: José\n",
            "Quarto aluno: André\n",
            "O aluno escolhido foi Thalita\n"
          ],
          "name": "stdout"
        }
      ]
    },
    {
      "cell_type": "code",
      "metadata": {
        "colab": {
          "base_uri": "https://localhost:8080/"
        },
        "id": "RDCw46xZm6Lp",
        "outputId": "30b3f547-5576-454c-e3ff-a410b25c071f"
      },
      "source": [
        "import random # Seleciona de forma aleatória (random)\n",
        "nome1 = input('Primeiro aluno: ')\n",
        "nome2 = input('Segundo aluno: ')\n",
        "nome3 = input('Terceiro aluno: ')\n",
        "nome4 = input('Quarto aluno: ')\n",
        "lista = [nome1, nome2, nome3, nome4]\n",
        "escolha = random.shuffle(lista)\n",
        "print('A ordem de apresentação será:')\n",
        "print(lista)\n"
      ],
      "execution_count": null,
      "outputs": [
        {
          "output_type": "stream",
          "text": [
            "Primeiro aluno: Ana \n",
            "Segundo aluno: Thalita\n",
            "Terceiro aluno: José \n",
            "Quarto aluno: André\n",
            "A ordem de apresentação será:\n",
            "['Ana ', 'André', 'José ', 'Thalita']\n"
          ],
          "name": "stdout"
        }
      ]
    },
    {
      "cell_type": "code",
      "metadata": {
        "colab": {
          "base_uri": "https://localhost:8080/"
        },
        "id": "D_FsP7AdrYj4",
        "outputId": "8a439fd3-6cc8-40df-ac3e-9b5902b645cd"
      },
      "source": [
        "fgts = float(input('Digite o valor do FGTS: R$'))\n",
        "rec = fgts + (fgts * 40/100)\n",
        "print('O valor do FGTS com acrescimo de 40% é R${:.2f}'.format(rec))\n",
        "\n"
      ],
      "execution_count": null,
      "outputs": [
        {
          "output_type": "stream",
          "text": [
            "Digite o valor do FGTS: R$8075.63\n",
            "O valor do FGTS com acrescimo de 40% é R$11305.88\n"
          ],
          "name": "stdout"
        }
      ]
    },
    {
      "cell_type": "code",
      "metadata": {
        "colab": {
          "base_uri": "https://localhost:8080/"
        },
        "id": "b7BlzguhExTq",
        "outputId": "2d8d74d5-801e-4f27-f488-401faad7b0a7"
      },
      "source": [
        "print('=========== Desafio 23 ============')\n",
        "num = int(input('informe um número: '))\n",
        "u = num // 1 % 10\n",
        "d = num // 10 % 10\n",
        "c = num // 100 % 10\n",
        "m = num // 1000 % 10\n",
        "print('Analisando o número {}'.format(num))\n",
        "print('Unidade {}'.format(u))\n",
        "print('Dezena {}'.format(d))\n",
        "print('Centena {}'.format(c))\n",
        "print('Milhar {}'.format(m))"
      ],
      "execution_count": null,
      "outputs": [
        {
          "output_type": "stream",
          "text": [
            "=========== Desafio 23 ============\n",
            "informe um número: 1983\n",
            "Analisando o número 1983\n",
            "Unidade 3\n",
            "Dezena 8\n",
            "Centena 9\n",
            "Milhar 1\n"
          ],
          "name": "stdout"
        }
      ]
    },
    {
      "cell_type": "code",
      "metadata": {
        "colab": {
          "base_uri": "https://localhost:8080/"
        },
        "id": "f_mNciUYk9HF",
        "outputId": "b4f68679-34d1-4b03-ea24-7ec7eb7373a2"
      },
      "source": [
        "cidade = str(input('Em que cidade você nasceu? ')).strip() # o strip elimina espaços\n",
        "print(cidade[:5].upper() == 'SANTO')\n"
      ],
      "execution_count": null,
      "outputs": [
        {
          "output_type": "stream",
          "text": [
            "Emque cidade você nasceu? Santo André\n",
            "True\n"
          ],
          "name": "stdout"
        }
      ]
    },
    {
      "cell_type": "code",
      "metadata": {
        "colab": {
          "base_uri": "https://localhost:8080/"
        },
        "id": "oS2ka5UGmOAT",
        "outputId": "8991c85d-1220-4577-82e5-d68d5c6fcca5"
      },
      "source": [
        "nome = str(input('Digite seu nome completo: ')).strip()\n",
        "print('Seu nome tem Silva? {}'.format('SILVA' in nome.upper()))\n",
        "\n"
      ],
      "execution_count": null,
      "outputs": [
        {
          "output_type": "stream",
          "text": [
            "Digite seu nome completo: Joana Silva Lima\n",
            "Seu nome tem Silva? True\n"
          ],
          "name": "stdout"
        }
      ]
    },
    {
      "cell_type": "code",
      "metadata": {
        "colab": {
          "base_uri": "https://localhost:8080/"
        },
        "id": "6YAP3Y8_ng6V",
        "outputId": "a4043eb2-33c1-4a41-ece8-b1a4c0cd55ff"
      },
      "source": [
        "frase = str(input('Digite uma frase qualquer: ')).upper().strip()\n",
        "print('A letra A aparece {} vezes na frase.'.format(frase.count('A')))\n",
        "print('A primeira letra A apareceu no posição {}'.format(frase.find('A') + 1))\n",
        "print('A última letra A apareceu na posição {}'.format(frase.rfind('A') + 1))\n"
      ],
      "execution_count": null,
      "outputs": [
        {
          "output_type": "stream",
          "text": [
            "Digite uma frase qualquer: Ainda bem que estou bem\n",
            "A letra A aparece 2 vezes na frase.\n",
            "A primeira letra A apareceu no posição 1\n",
            "A última letra A apareceu na posição 5\n"
          ],
          "name": "stdout"
        }
      ]
    },
    {
      "cell_type": "code",
      "metadata": {
        "colab": {
          "base_uri": "https://localhost:8080/"
        },
        "id": "GOSgd6yoin_m",
        "outputId": "adf0f224-eb5f-4118-b86b-638cbaf8580a"
      },
      "source": [
        "nome = str(input('Digite seu nome completo: ')).strip()\n",
        "n = nome.split()\n",
        "print('Seu primeiro nome é {}'.format(n[0]))\n",
        "print('Seu último nome é {}'.format(n[len(n) - 1]))\n",
        "\n"
      ],
      "execution_count": null,
      "outputs": [
        {
          "output_type": "stream",
          "text": [
            "Digite seu nome completo: José Nilton do Nascimento Fagundes\n",
            "Seu primeiro nome é José\n",
            "Seu último nome é Fagundes\n"
          ],
          "name": "stdout"
        }
      ]
    }
  ]
}