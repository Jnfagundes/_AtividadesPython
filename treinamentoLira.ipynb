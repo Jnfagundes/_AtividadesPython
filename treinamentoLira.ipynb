{
  "nbformat": 4,
  "nbformat_minor": 0,
  "metadata": {
    "colab": {
      "name": "treinamentoLira.ipynb",
      "provenance": [],
      "mount_file_id": "1Zfd7Z9oA5-ps7uBWKWjkvqQ5vP6P6Re2",
      "authorship_tag": "ABX9TyP392KuOWQVnj5n80tvn4Zq",
      "include_colab_link": true
    },
    "kernelspec": {
      "name": "python3",
      "display_name": "Python 3"
    },
    "language_info": {
      "name": "python"
    }
  },
  "cells": [
    {
      "cell_type": "markdown",
      "metadata": {
        "id": "view-in-github",
        "colab_type": "text"
      },
      "source": [
        "<a href=\"https://colab.research.google.com/github/Jnfagundes/_AtividadesPython/blob/master/treinamentoLira.ipynb\" target=\"_parent\"><img src=\"https://colab.research.google.com/assets/colab-badge.svg\" alt=\"Open In Colab\"/></a>"
      ]
    },
    {
      "cell_type": "code",
      "metadata": {
        "colab": {
          "base_uri": "https://localhost:8080/"
        },
        "id": "reyfjsGM3HNt",
        "outputId": "6eb158db-e4b6-45ce-d04d-40db39dfa9e7"
      },
      "source": [
        "pip install pyautogui\n"
      ],
      "execution_count": null,
      "outputs": [
        {
          "output_type": "stream",
          "text": [
            "Collecting pyautogui\n",
            "\u001b[?25l  Downloading https://files.pythonhosted.org/packages/40/0a/1373680148828d7ea3f0e432f06c08f51a33d72306719954d3ae379f5890/PyAutoGUI-0.9.52.tar.gz (55kB)\n",
            "\r\u001b[K     |█████▉                          | 10kB 15.2MB/s eta 0:00:01\r\u001b[K     |███████████▊                    | 20kB 20.0MB/s eta 0:00:01\r\u001b[K     |█████████████████▋              | 30kB 17.0MB/s eta 0:00:01\r\u001b[K     |███████████████████████▌        | 40kB 15.1MB/s eta 0:00:01\r\u001b[K     |█████████████████████████████▎  | 51kB 9.3MB/s eta 0:00:01\r\u001b[K     |████████████████████████████████| 61kB 5.4MB/s \n",
            "\u001b[?25hCollecting pymsgbox\n",
            "  Downloading https://files.pythonhosted.org/packages/7d/ff/4c6f31a4f08979f12a663f2aeb6c8b765d3bd592e66eaaac445f547bb875/PyMsgBox-1.0.9.tar.gz\n",
            "  Installing build dependencies ... \u001b[?25l\u001b[?25hdone\n",
            "  Getting requirements to build wheel ... \u001b[?25l\u001b[?25hdone\n",
            "    Preparing wheel metadata ... \u001b[?25l\u001b[?25hdone\n",
            "Collecting PyTweening>=1.0.1\n",
            "  Downloading https://files.pythonhosted.org/packages/b9/f8/c32a58d6e4dff8aa5c27e907194d69f3b57e525c2e4af96f39c6e9c854d2/PyTweening-1.0.3.zip\n",
            "Collecting pyscreeze>=0.1.21\n",
            "  Downloading https://files.pythonhosted.org/packages/4b/64/1087b4f2c1c5ca14e6ceba7d1e116c494629de36b9882cf014ae02814ce5/PyScreeze-0.1.27.tar.gz\n",
            "  Installing build dependencies ... \u001b[?25l\u001b[?25hdone\n",
            "  Getting requirements to build wheel ... \u001b[?25l\u001b[?25hdone\n",
            "    Preparing wheel metadata ... \u001b[?25l\u001b[?25hdone\n",
            "Collecting pygetwindow>=0.0.5\n",
            "  Downloading https://files.pythonhosted.org/packages/e1/70/c7a4f46dbf06048c6d57d9489b8e0f9c4c3d36b7479f03c5ca97eaa2541d/PyGetWindow-0.0.9.tar.gz\n",
            "Collecting mouseinfo\n",
            "  Downloading https://files.pythonhosted.org/packages/28/fa/b2ba8229b9381e8f6381c1dcae6f4159a7f72349e414ed19cfbbd1817173/MouseInfo-0.1.3.tar.gz\n",
            "Collecting python3-Xlib\n",
            "\u001b[?25l  Downloading https://files.pythonhosted.org/packages/ef/c6/2c5999de3bb1533521f1101e8fe56fd9c266732f4d48011c7c69b29d12ae/python3-xlib-0.15.tar.gz (132kB)\n",
            "\u001b[K     |████████████████████████████████| 133kB 17.6MB/s \n",
            "\u001b[?25hRequirement already satisfied: Pillow>=5.2.0; python_version == \"3.7\" in /usr/local/lib/python3.7/dist-packages (from pyscreeze>=0.1.21->pyautogui) (7.1.2)\n",
            "Collecting pyrect\n",
            "  Downloading https://files.pythonhosted.org/packages/2f/68/bd7bf96fc44217e769f27912e6c9bb3e9987cba286054af6120448ce8212/PyRect-0.1.4.tar.gz\n",
            "Collecting pyperclip\n",
            "  Downloading https://files.pythonhosted.org/packages/a7/2c/4c64579f847bd5d539803c8b909e54ba087a79d01bb3aba433a95879a6c5/pyperclip-1.8.2.tar.gz\n",
            "Building wheels for collected packages: pymsgbox, pyscreeze\n",
            "  Building wheel for pymsgbox (PEP 517) ... \u001b[?25l\u001b[?25hdone\n",
            "  Created wheel for pymsgbox: filename=PyMsgBox-1.0.9-cp37-none-any.whl size=7420 sha256=7ac8ef95def3a2f002d5345f0093a8189fec5b9f3930d38279f90ba415818241\n",
            "  Stored in directory: /root/.cache/pip/wheels/16/d7/4e/fffdd54b1cca86608b7655c9a2854890a38f955ce9532848cd\n",
            "  Building wheel for pyscreeze (PEP 517) ... \u001b[?25l\u001b[?25hdone\n",
            "  Created wheel for pyscreeze: filename=PyScreeze-0.1.27-cp37-none-any.whl size=12891 sha256=a235980a8402750e92f1e6170037f37dd0a6dde12f0540f736021c56200c526d\n",
            "  Stored in directory: /root/.cache/pip/wheels/4d/c1/33/e7a099b5906e1110c51d32c957ad56df5a9976cd43153398df\n",
            "Successfully built pymsgbox pyscreeze\n",
            "Building wheels for collected packages: pyautogui, PyTweening, pygetwindow, mouseinfo, python3-Xlib, pyrect, pyperclip\n",
            "  Building wheel for pyautogui (setup.py) ... \u001b[?25l\u001b[?25hdone\n",
            "  Created wheel for pyautogui: filename=PyAutoGUI-0.9.52-cp37-none-any.whl size=35213 sha256=b4d846fc856694c9a04d4525f7047af84ecced662c3ac799c30c326b216fb3e5\n",
            "  Stored in directory: /root/.cache/pip/wheels/c8/ae/a9/62d83c8ea2068e8553766c8f6f5fbf1f61d264701cafeca49f\n",
            "  Building wheel for PyTweening (setup.py) ... \u001b[?25l\u001b[?25hdone\n",
            "  Created wheel for PyTweening: filename=PyTweening-1.0.3-cp37-none-any.whl size=3814 sha256=4435dd717f003d52bcf72263d1c3fc5ff1651825ebcf464e6cc962fd796e3743\n",
            "  Stored in directory: /root/.cache/pip/wheels/7b/92/30/06e21159eed2709436bfb6d7c690959e578cf74f029643866e\n",
            "  Building wheel for pygetwindow (setup.py) ... \u001b[?25l\u001b[?25hdone\n",
            "  Created wheel for pygetwindow: filename=PyGetWindow-0.0.9-cp37-none-any.whl size=11081 sha256=ed43460a75edc1c8fc9fbaad8b88c0e89a7112d0b67ee9ba9360ff0ae062d794\n",
            "  Stored in directory: /root/.cache/pip/wheels/4b/c1/c6/89b4fb35adcbfe54c5e71e830330dc39cfa231b32dc62eed6b\n",
            "  Building wheel for mouseinfo (setup.py) ... \u001b[?25l\u001b[?25hdone\n",
            "  Created wheel for mouseinfo: filename=MouseInfo-0.1.3-cp37-none-any.whl size=10907 sha256=7240e4fc2bab1fc96f0d08c2e2239b1c181210172139419aaa7dac7bce68b016\n",
            "  Stored in directory: /root/.cache/pip/wheels/eb/81/32/4d7b345486dbc3f3ee45316f8f4cbdebafc1b5d1da3353b529\n",
            "  Building wheel for python3-Xlib (setup.py) ... \u001b[?25l\u001b[?25hdone\n",
            "  Created wheel for python3-Xlib: filename=python3_xlib-0.15-cp37-none-any.whl size=109517 sha256=90de29a29ba9cabd92ff9dcfd83dfd3077749d12ac03ff7f2cbb1cad3425299f\n",
            "  Stored in directory: /root/.cache/pip/wheels/e9/be/31/bebab5ac079cfa8305381fa6ee15ea142eade1fec0c71e1278\n",
            "  Building wheel for pyrect (setup.py) ... \u001b[?25l\u001b[?25hdone\n",
            "  Created wheel for pyrect: filename=PyRect-0.1.4-py2.py3-none-any.whl size=9547 sha256=86530d0bbf47e4e8659cf058df70206171e66c42c31f3a65cbc2717a4353feb4\n",
            "  Stored in directory: /root/.cache/pip/wheels/3e/61/83/8fd1478e984f7378e57972f5fd9bb0dbffc349fefc9efa5bf9\n",
            "  Building wheel for pyperclip (setup.py) ... \u001b[?25l\u001b[?25hdone\n",
            "  Created wheel for pyperclip: filename=pyperclip-1.8.2-cp37-none-any.whl size=11136 sha256=dd34ef1a901d5b68bb47e16e2fbd82618bf2d02045eb83c5af6cdd3ce294826f\n",
            "  Stored in directory: /root/.cache/pip/wheels/25/af/b8/3407109267803f4015e1ee2ff23be0c8c19ce4008665931ee1\n",
            "Successfully built pyautogui PyTweening pygetwindow mouseinfo python3-Xlib pyrect pyperclip\n",
            "Installing collected packages: pymsgbox, PyTweening, pyscreeze, pyrect, pygetwindow, pyperclip, python3-Xlib, mouseinfo, pyautogui\n",
            "Successfully installed PyTweening-1.0.3 mouseinfo-0.1.3 pyautogui-0.9.52 pygetwindow-0.0.9 pymsgbox-1.0.9 pyperclip-1.8.2 pyrect-0.1.4 pyscreeze-0.1.27 python3-Xlib-0.15\n"
          ],
          "name": "stdout"
        }
      ]
    },
    {
      "cell_type": "code",
      "metadata": {
        "id": "yaylbk5h7YId"
      },
      "source": [
        "import pyautogui # Permite fazer automações\n",
        "import time\n",
        "import pyperclip # Trabalha junto com o pyautogui\n",
        "\n",
        "pyautogui.PAUSE = 1\n",
        "\n",
        "# Passo 1: Entrar na base de dados da empresa.\n",
        "pyautogui.open('google.com')\n",
        "link = 'https://docs.google.com/spreadsheets/d/1HSFFI4v7ju8qmy4eW12hdl1_BwkEImSw/edit?rtpof=true#gid=1634402548'\n",
        "pyperclip.copy(link)\n",
        "\n",
        "\n"
      ],
      "execution_count": null,
      "outputs": []
    }
  ]
}