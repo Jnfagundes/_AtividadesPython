{
  "nbformat": 4,
  "nbformat_minor": 0,
  "metadata": {
    "colab": {
      "name": "Trabalhando_com_poo.ipynb",
      "provenance": [],
      "authorship_tag": "ABX9TyNesUMiuQcJnre6f8sws9Er",
      "include_colab_link": true
    },
    "kernelspec": {
      "name": "python3",
      "display_name": "Python 3"
    },
    "language_info": {
      "name": "python"
    }
  },
  "cells": [
    {
      "cell_type": "markdown",
      "metadata": {
        "id": "view-in-github",
        "colab_type": "text"
      },
      "source": [
        "<a href=\"https://colab.research.google.com/github/Jnfagundes/_AtividadesPython/blob/master/Trabalhando_com_poo.ipynb\" target=\"_parent\"><img src=\"https://colab.research.google.com/assets/colab-badge.svg\" alt=\"Open In Colab\"/></a>"
      ]
    },
    {
      "cell_type": "code",
      "metadata": {
        "id": "-c563knEFmcJ"
      },
      "source": [
        "class Cubo:\n",
        "  '''Calculando o cubo de um número'''\n",
        "  def __init__(self, valor): # Método construtor\n",
        "    self.x = valor\n",
        "    print('Objeto criado')\n",
        "\n",
        "  def calcula_cubo(self):\n",
        "    cubo = self.x * self.x * self.x \n",
        "    return 'Cubo calculado: ' + str(cubo)  # Retorno "
      ],
      "execution_count": 3,
      "outputs": []
    },
    {
      "cell_type": "code",
      "metadata": {
        "colab": {
          "base_uri": "https://localhost:8080/"
        },
        "id": "9BW6sh_YHvfd",
        "outputId": "9cae6c9f-ceab-4af6-bc70-ffb89de4530c"
      },
      "source": [
        "teste = Cubo(6) # O 6 será passado para a variável valor do método construtor\n",
        "c = teste.calcula_cubo()\n",
        "print(c)\n"
      ],
      "execution_count": 6,
      "outputs": [
        {
          "output_type": "stream",
          "text": [
            "Objeto criado\n",
            "Cubo calculado: 216\n"
          ],
          "name": "stdout"
        }
      ]
    },
    {
      "cell_type": "code",
      "metadata": {
        "colab": {
          "base_uri": "https://localhost:8080/"
        },
        "id": "OvX-q3yLLEvO",
        "outputId": "a6b20e75-3432-461a-f778-d9e867b8794d"
      },
      "source": [
        "calculo = Cubo(3)\n",
        "a = calculo.calcula_cubo()\n",
        "print(a)"
      ],
      "execution_count": 4,
      "outputs": [
        {
          "output_type": "stream",
          "text": [
            "Objeto criado\n",
            "Cubo calculado: 27\n"
          ],
          "name": "stdout"
        }
      ]
    },
    {
      "cell_type": "code",
      "metadata": {
        "colab": {
          "base_uri": "https://localhost:8080/"
        },
        "id": "l3iV_4_uNEhd",
        "outputId": "99fbfbc4-85d8-4c98-f04f-58e13305884d"
      },
      "source": [
        "class Pessoa: # Criação da classe Pessoa\n",
        "    # Criando métodos\n",
        "    def __init__(self, nome, idade, comendo= False, falando= False):\n",
        "      self.nome = nome\n",
        "      self.idade = idade\n",
        "      self.comendo = comendo\n",
        "      self.falando = falando\n",
        "\n",
        "p1 = Pessoa('Luiz', 29)  # Instanciamos a classe Pessoa, ou seja, criamos um objeto com nome p1\n",
        "\n",
        "print(p1.nome, p1.idade)\n",
        "\n",
        "\n"
      ],
      "execution_count": 12,
      "outputs": [
        {
          "output_type": "stream",
          "text": [
            "Luiz 29\n"
          ],
          "name": "stdout"
        }
      ]
    }
  ]
}