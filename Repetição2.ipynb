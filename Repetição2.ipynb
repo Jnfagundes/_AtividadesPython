{
  "nbformat": 4,
  "nbformat_minor": 0,
  "metadata": {
    "colab": {
      "name": "Repetição2.ipynb",
      "provenance": [],
      "collapsed_sections": [],
      "authorship_tag": "ABX9TyPqaHznsLmhWYUlnXMP4ldq",
      "include_colab_link": true
    },
    "kernelspec": {
      "name": "python3",
      "display_name": "Python 3"
    }
  },
  "cells": [
    {
      "cell_type": "markdown",
      "metadata": {
        "id": "view-in-github",
        "colab_type": "text"
      },
      "source": [
        "<a href=\"https://colab.research.google.com/github/Jnfagundes/_AtividadesPython/blob/master/Repeti%C3%A7%C3%A3o2.ipynb\" target=\"_parent\"><img src=\"https://colab.research.google.com/assets/colab-badge.svg\" alt=\"Open In Colab\"/></a>"
      ]
    },
    {
      "cell_type": "code",
      "metadata": {
        "id": "6d6ZccpaL4mP"
      },
      "source": [
        "print('Estrutura de repetição com teste lógico.')\n",
        "num = 1 # Declaração da variável num sendo atribuido o valor 1\n",
        "while num < 5: # Enquanto num for menor que 5\n",
        "  print(num) #Mostraremos o num\n",
        "  num += 1 # Somaremos 1 ao valor que temos no num\n",
        "print('Fim')  # Quando todo o processo de while terminar, iremos imprimir \"Fim\"\n",
        "  \n"
      ],
      "execution_count": null,
      "outputs": []
    },
    {
      "cell_type": "code",
      "metadata": {
        "id": "wAW-NQn7P-9d"
      },
      "source": [
        "n = 1 # Declaração da variável n que começa com o valor 1\n",
        "while n != 0: # Enquanto a variável n for diferente de 0 será pedido para o usuário digitar um valor\n",
        "  n = int(input('Digite um valor ou zero para terminar: ')) # Quando o usuário quiser terminar, é so digitar 0\n",
        "print('Fim')  "
      ],
      "execution_count": null,
      "outputs": []
    },
    {
      "cell_type": "code",
      "metadata": {
        "id": "gNmpoLkHSEp_"
      },
      "source": [
        "r = 'S'\n",
        "while r == 'S':\n",
        "  n = int(input('Digite um valor: '))\n",
        "  r = str(input('Quer continuar? [S/N] ')).upper() # o comando upper() passa a str maiúscula\n",
        "print('Fim')  "
      ],
      "execution_count": null,
      "outputs": []
    },
    {
      "cell_type": "code",
      "metadata": {
        "id": "u847dR9pV32v"
      },
      "source": [
        "n = 1 \n",
        "par = impar = 0 # Aqui estamos criando as variáveis par e ímpar que serão iniciadas com valor zero \n",
        "while n != 0:# Enquanto n for diferente de zero será solicitado um valor ao usuário\n",
        "  n = int(input('Digite um valor qualquer ou zero para sair: '))\n",
        "  if n != 0: # Se n for diferente de 0 teremos mais um SE.\n",
        "    if n % 2 == 0: # Se o resto da divisão de n por 2 for igual a 0 \n",
        "      par += 1 # Aqui temos o contador par, começa com zero e é acrescido o valor 1 em cada iteração\n",
        "    else:\n",
        "      impar += 1 # Aqui temos o contador impar, começa com zero e é acrescido o valor 1 em cada iteração\n",
        "print(f'Você digitou {par} pares e {impar} ímpares.')\n",
        "\n"
      ],
      "execution_count": null,
      "outputs": []
    },
    {
      "cell_type": "code",
      "metadata": {
        "id": "ExQM9f3kt1ZY"
      },
      "source": [
        "print('====== Exercício 57 =======')\n",
        "sexo = str(input('Informe seu sexo: [M/F]')).strip().upper()[0] # A função strip() exclui espaços na string, a função upper() deixa a string maiúscula \n",
        "# e o [0] é para ser pego a string que estiver na posição zero.\n",
        "while sexo not in 'MF': # Enquanto a variável sexo não tiver M ou F\n",
        "  sexo = str(input('Dados inválidos. Por favor informe o sexo: ')).strip().upper()[0] # esse comando será executado. \n",
        "print(f'Sexo {sexo} registrado com sucesso')  \n"
      ],
      "execution_count": null,
      "outputs": []
    },
    {
      "cell_type": "code",
      "metadata": {
        "id": "SvOhmDP1558Z"
      },
      "source": [
        "from random import randint # Importação da função randint que está dentro da biblioteca random\n",
        "print('====== Exercício 58 ======')\n",
        "pc = randint(0, 10) # A variável pc recebe o valor randomizando entre 0 e 10\n",
        "print('Vou pensar em um número entre 0 e 10, consegue advinhar? ') \n",
        "acertou = False # A variável acertou recebendo a entrada False\n",
        "palpite = 0 # A variável palpite recebendo o valor 0\n",
        "while not acertou: # Enquanto não acertou for verdade\n",
        "  jogador = int(input('Em que número pensei? ')) # Aqui a variável jogador recebe um valor digitado pelo usuário\n",
        "  palpite += 1 # Esse valor é contado dentro desse contador\n",
        "  if jogador == pc: # Se o valor da variável jogador for igual o valor da variável pc\n",
        "    acertou = True # o valor da variável acertou muda para True\n",
        "  else: # Caso contrário\n",
        "    if jogador < pc: # Se o valor da variável jogador for menor que o valor da variável pc\n",
        "      print('Tente um valor maior.')\n",
        "    elif jogador > pc: # Se o valor da variável jogador for maior que o valor da variável pc\n",
        "        print('Tente um valor menor.')  \n",
        "print(f'Acertou, com {palpite} tentativas')\n"
      ],
      "execution_count": null,
      "outputs": []
    },
    {
      "cell_type": "code",
      "metadata": {
        "id": "Ex5VA3wiUsHF"
      },
      "source": [
        "print('====== Exercício 59 ======')\n",
        "num1 = int(input('Digite o primeiro valor: '))\n",
        "num2 = int(input('Digite o segundo valor: '))\n",
        "opcao = 0\n",
        "while opcao != 5: # Enquanto a variável opcao for diferente de 5\n",
        "    print('-=-=-=-=-=-=-=-=-=-=-=-=-=-=-=-=-=-=-=-=-=-=-')\n",
        "    print('''     Opções:\n",
        "                  [1] somar\n",
        "                  [2] multiplicar\n",
        "                  [3] maior\n",
        "                  [4] novos números\n",
        "                  [5] sair do programa''')\n",
        "    print('-=-=-=-=-=-=-=-=-=-=-=-=-=-=-=-=-=-=-=-=-=-=-')\n",
        "    opcao = int(input('Qual sua opção? ')) \n",
        "    print('-=-=-=-=-=-=-=-=-=-=-=-=-=-=-=-=-=-=-=-=-=-=-')\n",
        "    if opcao == 1: # Se a variável opcao for igual a 1\n",
        "      print(f'A soma entre {num1} e {num2} é {num1 + num2}')\n",
        "    elif opcao == 2: # Se a variável opcao for igual a 2\n",
        "      print(f'A multiplicação entre {num1} e {num2} é {num1 * num2}')\n",
        "    elif opcao == 3: # Se a variável opcao for igual a 3 teremos um SE dentro desse SE\n",
        "      if num1 > num2 : # Se num1 for maior que num2\n",
        "        print(f'O maior número é {num1}.')\n",
        "      else:\n",
        "        print(f'O maior número é {numm2}.')  \n",
        "    elif opcao == 4: # Se a variável opcao for igual a 4\n",
        "      print('Informe os números novamente:')\n",
        "      num1 = int(input('Digite o primeiro valor: '))\n",
        "      num2 = int(input('Digite o segundo valor: '))\n",
        "    elif opcao == 5: # Se a variável opcao for igual a 5\n",
        "      print('Finalizando ...')\n",
        "    else:\n",
        "      print('Escolha uma opção válida')  \n",
        "print('Fim do programa.')     \n"
      ],
      "execution_count": null,
      "outputs": []
    },
    {
      "cell_type": "code",
      "metadata": {
        "id": "nvA2PX8d25p4"
      },
      "source": [
        "from math import factorial\n",
        "print('====== Exercício 60 ======')\n",
        "num = int(input('Digite um número para calcular o fatorial: '))\n",
        "f = factorial(num)\n",
        "print('{}! = {}'.format(num, f))\n",
        " \n",
        "  \n"
      ],
      "execution_count": null,
      "outputs": []
    },
    {
      "cell_type": "code",
      "metadata": {
        "id": "yHanAJRF_MaA"
      },
      "source": [
        "print('====== Exercício 60 ======')\n",
        "num = int(input('Digite um número para calcular o fatorial: '))\n",
        "c = num\n",
        "f = 1\n",
        "print('Calculando {}! ='.format(num), end = ' ')\n",
        "while c > 0:\n",
        "  print('{}'.format(c), end = ' ')\n",
        "  print(' x ' if c > 1 else '=', end = ' ')\n",
        "  f *= c\n",
        "  c -= 1\n",
        "print(' {}'. format(f))  \n",
        "\n"
      ],
      "execution_count": null,
      "outputs": []
    },
    {
      "cell_type": "code",
      "metadata": {
        "id": "VccjFWgvLMGt"
      },
      "source": [
        "print('====== Exercício 61 ======')\n",
        "print('    -*-    Gerador de PA      -*-')\n",
        "print('-='* 10)\n",
        "termo = int(input('Digite um valor para o primeiro termo da PA: '))\n",
        "razao = int(input('Digite um valor para a razão: '))\n",
        "t1 = termo\n",
        "cont = 1 \n",
        "while cont <= 10:\n",
        "  print('{} -> '.format(t1), end = ' ')\n",
        "  t1 += razao\n",
        "  cont += 1\n",
        "print('Fim')  \n",
        "\n"
      ],
      "execution_count": null,
      "outputs": []
    },
    {
      "cell_type": "code",
      "metadata": {
        "id": "fa8BC-iGN5MT"
      },
      "source": [
        "print('====== Exercício 62 ======')\n",
        "print('    -*-    Gerador de PA      -*-')\n",
        "print('-='* 10)\n",
        "termo = int(input('Digite um valor para o primeiro termo da PA: '))\n",
        "razao = int(input('Digite um valor para a razão da PA: '))\n",
        "t1 = termo\n",
        "cont = 1 \n",
        "total = 0\n",
        "mais = 10\n",
        "while mais != 0:\n",
        "  total += mais\n",
        "  while cont <= total:\n",
        "    print('{} -> '.format(t1), end = ' ')\n",
        "    t1 += razao\n",
        "    cont += 1\n",
        "  print('Pausa')\n",
        "  mais = int(input('Quantos termos você quer a mais? ')) \n",
        "print('Progressão finalizada com {} termos mostrados.'.format(total))  \n",
        "print('Fim')   \n"
      ],
      "execution_count": null,
      "outputs": []
    },
    {
      "cell_type": "code",
      "metadata": {
        "id": "A_TNZJ9pzO-p"
      },
      "source": [
        "print('====== Exercício 63 ======')\n",
        "print('-' * 40)\n",
        "print('Sequência de Fibonacci')\n",
        "print('-' * 40)\n",
        "n = int(input('Quantos termos você quer mostrar? '))\n",
        "t1 = 0 \n",
        "t2 = 1\n",
        "print('{} -> {}'.format(t1, t2), end = ' ')\n",
        "cont = 3\n",
        "while cont <= n:\n",
        "    t3 = t1 + t2\n",
        "    print(' -> {}'.format(t3), end = ' ')\n",
        "    t1 = t2\n",
        "    t2 = t3\n",
        "    cont += 1\n",
        "print('\\n Fim')    \n"
      ],
      "execution_count": null,
      "outputs": []
    },
    {
      "cell_type": "code",
      "metadata": {
        "id": "uZ_u6XdU3eJA"
      },
      "source": [
        "print('====== Exercício 64 =======')\n",
        "num = 0\n",
        "cont = 0\n",
        "soma = 0\n",
        "num = int(input('Digite um número [999 para parar] :'))\n",
        "while num != 999:\n",
        "  soma += num\n",
        "  cont += 1\n",
        "  num = int(input('Digite um número [999 para parar] :'))\n",
        "print('Você digitou {} números e a soma entre eles foi {}.'.format(cont, soma))  \n",
        "print('Acabou')  \n"
      ],
      "execution_count": null,
      "outputs": []
    },
    {
      "cell_type": "code",
      "metadata": {
        "id": "ladc9N0x6iIA"
      },
      "source": [
        "print('====== Exercício 65 ======')\n",
        "resp = 'S'\n",
        "soma = quant = media = maior = menor = 0\n",
        "while resp in 'Ss':\n",
        "  num = int(input('Digite um número: '))\n",
        "  soma += num\n",
        "  quant += 1\n",
        "  if quant == 1:\n",
        "    maior = menor = num\n",
        "  else:\n",
        "    if num > maior:\n",
        "      maior = num\n",
        "    if num < menor:\n",
        "      menor = num    \n",
        "  resp = str(input('Quer continuar? [S/N] ')).upper().strip()[0]\n",
        "media = soma / quant\n",
        "print('Você digitou {} números e a média foi {} '.format(quant, media))  \n",
        "print('O maior valor foi {} e o menor foi {} '.format(maior, menor))\n",
        "print('Acabou')"
      ],
      "execution_count": null,
      "outputs": []
    },
    {
      "cell_type": "code",
      "metadata": {
        "id": "sEyw7Nx1VIP2"
      },
      "source": [
        "print('Interrompendo repetições while')\n",
        "print('Para isso usamos o break')\n",
        "cont = 1 # sempre devemos começar o contador\n",
        "while cont <= 10: # Dessa forma o loop tem limite\n",
        "  print(cont, '->', end = ' ')\n",
        "print('Acabou')  \n",
        "\n",
        "# while True: # Dessa forma o loop não tem limite\n",
        "  #print(cont, '->', end = ' ')\n",
        "\n",
        "n = s = 0\n",
        "while True: #Aqui temos um loop infinito\n",
        "  n = int(input('Digite um número: '))\n",
        "  if n == 999: # Aqui temos um flag (uma forma de parar o loop)\n",
        "    break # Aqui temos o comando para parar o loop\n",
        "  s += n\n",
        "print('A soma vale {} '.format(s))    \n",
        "\n"
      ],
      "execution_count": null,
      "outputs": []
    },
    {
      "cell_type": "code",
      "metadata": {
        "id": "p56epRTRetLF"
      },
      "source": [
        "n = s = 0\n",
        "while True: #Aqui temos um loop infinito\n",
        "  n = int(input('Digite um número: '))\n",
        "  if n == 999: # Aqui temos um flag (uma forma de parar o loop)\n",
        "    break # Aqui temos o comando para parar o loop\n",
        "  s += n\n",
        "print(f'A soma vale {s}') # outra forma de escrever o comando print('A soma vale {} '.format(s))"
      ],
      "execution_count": null,
      "outputs": []
    },
    {
      "cell_type": "code",
      "metadata": {
        "id": "eQpjWi7NgPA3"
      },
      "source": [
        "print('====== Exercício 66 ======')\n",
        "n = cont = s = 0\n",
        "while True:\n",
        "  n = int(input('Digite um número [999 para parar]: '))\n",
        "  if n == 999:\n",
        "    break\n",
        "  cont += 1\n",
        "  s += n\n",
        "print(f'Foram digitados {cont} números e a soma entre eles é {s}')  \n",
        "\n"
      ],
      "execution_count": null,
      "outputs": []
    },
    {
      "cell_type": "code",
      "metadata": {
        "id": "oozk_0SSkzL1"
      },
      "source": [
        "print('====== Exercício 67 ======')\n",
        "print('Vamos montar a tabuada do número que você quiser.')\n",
        "while True:\n",
        "  num = int(input('''Digite um valor para ser mostrado a tabuada dele \n",
        "  (Digite um valor negativo caso queira encerrar): '''))\n",
        "  if num < 0:\n",
        "     break\n",
        "  print('-'* 40)   \n",
        "  for c in range(0, 11) \n",
        "    print(f'{c:2} x {num:2} = {c*num}')\n",
        "  print('-'*40)\n",
        "print('Fim. Obrigado por usar nosso programa') \n",
        "\n"
      ],
      "execution_count": null,
      "outputs": []
    },
    {
      "cell_type": "code",
      "metadata": {
        "id": "fW-215f84LS0"
      },
      "source": [
        "from random import randint\n",
        "print('====== Exercício 68 ======')\n",
        "print('Jogo de par ou ímpar.')\n",
        "print('-=-'*25)\n",
        "cont = 0\n",
        "while True:\n",
        "  pc = randint(1,10)\n",
        "  valor = int(input('Diga um valor: '))\n",
        "  escolha = str(input('Par ou ímpar? [P/I] ')).upper().strip()[0]\n",
        "  cont += 1 \n",
        "  print('---'*20)\n",
        "  soma = pc + valor\n",
        "  jogo = 0\n",
        "  if soma % 2 == 0:\n",
        "    jogo = 'P'\n",
        "  else:\n",
        "    jogo = 'I'\n",
        "  if escolha == jogo:\n",
        "    print('Você GANHOU !!!!!!')\n",
        "    print(f'Você jogou {valor} e o computador jogou {pc}. A soma deles é {valor + pc}  ')\n",
        "  else:\n",
        "    print('Você PERDEU!!')\n",
        "    print(f'Você jogou {valor} e o computador jogou {pc}. A soma deles é {valor + pc} ')  \n",
        "    break  \n",
        "print(f'Game Over. Você ganhou {cont - 1} vezes')      \n",
        "print('---'*20) "
      ],
      "execution_count": null,
      "outputs": []
    },
    {
      "cell_type": "code",
      "metadata": {
        "id": "w00vgmgTqRGd"
      },
      "source": [
        "from random import randint\n",
        "print('==== Exercício 68 resolvido ======')\n",
        "v = 0\n",
        "while True:\n",
        "  print('---'*20)\n",
        "  jogador = int(input('Diga um valor: '))\n",
        "  pc = randint(0, 10)\n",
        "  total = jogador + pc\n",
        "  tipo = ' '\n",
        "  while tipo not in 'PI':\n",
        "    tipo = str(input('Par ou Ímpar? [P/I]')).strip().upper()[0]\n",
        "  print(f'Você jogou {jogador} e o computador {pc}. Total de {total}', end = ' ')\n",
        "  print('Deu par' if total % 2 == 0 else 'Deu ímpar')\n",
        "  print('---'*20)\n",
        "  if tipo == 'P':\n",
        "    if total % 2 == 0:\n",
        "      print('VENCEU!!!!')\n",
        "      v += 1\n",
        "      print('---'*20)\n",
        "    else:\n",
        "      print('PERDEU!!!! ')\n",
        "      print('---'*20)\n",
        "      break\n",
        "  elif tipo == 'I':\n",
        "      if total % 2 == 1:\n",
        "        print('VENCEU!!!!!')\n",
        "        print('---'*20)\n",
        "        V +=1\n",
        "      else:\n",
        "         print('PERDEU!!!!')\n",
        "         print('---'*20)\n",
        "         break\n",
        "  print('Vamos jogar novamente ...')\n",
        "print(f'Game over. Você perdeu {v}')              \n",
        "\n"
      ],
      "execution_count": null,
      "outputs": []
    },
    {
      "cell_type": "code",
      "metadata": {
        "id": "5qjN8c8Q7sy0"
      },
      "source": [
        "print('====== Exercício 69 ======')\n",
        "cont18 = 0\n",
        "conthomem = contmulher20 = 0 \n",
        "while True:\n",
        "  idade = int(input('Digite a idade: '))\n",
        "  if idade > 18:\n",
        "   cont18 += 1\n",
        "  sexo = str(input('Digite o sexo (M/F): ')).upper().strip()\n",
        "  if sexo == 'M':\n",
        "    conthomem += 1\n",
        "  if sexo == 'F' and idade < 20:\n",
        "    contmulher20 += 1  \n",
        "  if sexo not in 'MF':\n",
        "    sexo = str(input('Digite o sexo (M/F): ')).upper().strip()[0]\n",
        "  print('--------'*10)\n",
        "  continua = str(input('Deseja continuar? (S/N): ')).upper().strip()[0]\n",
        "  if continua not in 'SN':\n",
        "    continua = str(input('Deseja continuar? (S/N): ')).upper().strip()[0]\n",
        "  if continua == 'N':\n",
        "    break\n",
        "  print('--------'*10) \n",
        "print('--------'*10)\n",
        "print(f'Temos {cont18} pessoas com idade acima de 18 anos')\n",
        "print(f'Temos {conthomem} homens') \n",
        "print(f'Temos {contmulher20} mulheres com menos de 20 anos')   \n",
        "print('Programa encerrado pelo usuário.') \n",
        "print('--------'*10)\n"
      ],
      "execution_count": null,
      "outputs": []
    },
    {
      "cell_type": "code",
      "metadata": {
        "id": "yFl0Kue3DYsq"
      },
      "source": [
        "print('Resolução do C.E.V')\n",
        "tot18 = toth = totm20 = 0\n",
        "while True:\n",
        "  idade = int(input('Idade: '))\n",
        "  sexo = ' '\n",
        "  while sexo not in 'MF':\n",
        "    sexo = str(input('Sexo: [M/F] ')).strip().upper()[0]\n",
        "  if idade >= 18:\n",
        "    tot18 += 1\n",
        "  if sexo == 'M':\n",
        "    toth += 1\n",
        "  if sexo == 'F' and idade < 20:\n",
        "    totm20 += 1\n",
        "  resp = ' '\n",
        "  while resp not in 'SN':\n",
        "    resp = str(input('Quer continuar? [S/N] ')).strip().upper()[0]\n",
        "  if resp == 'N':\n",
        "    break\n",
        "print(f'Total de pessoas com mais de 18 anos é {tot18}')\n",
        "print(f'Ao todo temos {toth} homens cadastrados ')\n",
        "print(f'E temos {totm20} mulheres com menos de 20 anos')              \n"
      ],
      "execution_count": null,
      "outputs": []
    },
    {
      "cell_type": "code",
      "metadata": {
        "id": "35Ze-U6mKD6f"
      },
      "source": [
        "print('====== Exercício 70 ======')\n",
        "print('-=-'*20)\n",
        "print('{:-^50}'.format('Lojão Do Povo'))\n",
        "print('-=-'*20)\n",
        "nomeprod = preco = soma = menor = cont = c = 0\n",
        "barato = ' '\n",
        "while True:\n",
        "  nomeprod = str(input('Qual o nome do produto? '))\n",
        "  preco = float(input('Qual o preço dele? R$'))\n",
        "  cont += 1\n",
        "  soma += preco\n",
        "  if preco > 1000:\n",
        "    c += 1\n",
        "  if cont == 1:\n",
        "    menor =preco\n",
        "    barato = nomeprod\n",
        "  else:\n",
        "    if preco < menor:\n",
        "      menor = preco\n",
        "      barato = nomeprod\n",
        "\n",
        "  opcao = ' '\n",
        "  print('-------'* 10)\n",
        "  while opcao not in 'SN':\n",
        "     opcao = str(input('Deseja continuar? (S/N) ')).upper().strip()[0]\n",
        "     print('-------'* 10)\n",
        "  if opcao == 'N':\n",
        "    break\n",
        "\n",
        "print(f'O total gasto foi de R${soma:.2f} reais') \n",
        "print(f'{c} produtos custam mais que R$1000.00 reais')\n",
        "print(f'O produto {barato} é o mais barato  e custa R${menor:.2f}')\n"
      ],
      "execution_count": null,
      "outputs": []
    },
    {
      "cell_type": "code",
      "metadata": {
        "id": "7b5PqhB_9VLl"
      },
      "source": [
        "print('====== Exercício 71 ======')\n",
        "print('='*30)\n",
        "print('{:^30}'.format('Banco CEV'))\n",
        "print('='*30)\n",
        "valor = int(input('Qual valor deseja sacar? R$'))\n",
        "total = valor\n",
        "ced = 50\n",
        "totced = 0\n",
        "while True:\n",
        "  if total >= ced:\n",
        "    total -= ced\n",
        "    totced += 1\n",
        "  else:\n",
        "    if totced > 0:\n",
        "      print(f'Total de {totced} cédulas de R${ced} reais')\n",
        "    if ced == 50:\n",
        "      ced = 20\n",
        "    elif ced == 20:\n",
        "      ced = 10\n",
        "    elif ced == 10:\n",
        "      ced = 1\n",
        "    totced = 0  \n",
        "    if total == 0:\n",
        "      break       \n",
        "print('='*30)\n",
        "print('Volte sempre')\n"
      ],
      "execution_count": null,
      "outputs": []
    }
  ]
}